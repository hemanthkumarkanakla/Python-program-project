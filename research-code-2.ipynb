import re
    text = "Contact us at email@example.com or support@example.org"
    pattern = r'\b[A-Za-z0-9._%+-]+@[A-Za-z0-9.-]+\.[A-Z|a-z]{2,}\b'
    emails = re.findall(pattern, text)
    print(emails)
