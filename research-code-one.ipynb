import re
def validate_mobile_number(number):
	pattern = r"^\d{10}$"
	if re.match(pattern, number):
    	return True
	else:
    	return False
mobile_number = "1234567890"
if validate_mobile_number(mobile_number):
	print("Valid mobile number")
else:
	print("Invalid mobile number")
